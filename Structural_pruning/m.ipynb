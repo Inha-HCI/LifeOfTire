{
 "cells": [
  {
   "cell_type": "code",
   "execution_count": 10,
   "metadata": {},
   "outputs": [],
   "source": [
    "import os\n",
    "\n",
    "root_path='../Dataset/tire_data/tire_data/train'\n",
    "\n",
    "if '*.pt' in os.listdir(root_path):\n",
    "    print('True')"
   ]
  },
  {
   "cell_type": "code",
   "execution_count": 14,
   "metadata": {},
   "outputs": [
    {
     "ename": "AttributeError",
     "evalue": "module 'torch' has no attribute 'load_state_dict'",
     "output_type": "error",
     "traceback": [
      "\u001b[1;31m---------------------------------------------------------------------------\u001b[0m",
      "\u001b[1;31mAttributeError\u001b[0m                            Traceback (most recent call last)",
      "\u001b[1;32mC:\\Users\\HOJUN_~1\\AppData\\Local\\Temp/ipykernel_143692/84647232.py\u001b[0m in \u001b[0;36m<module>\u001b[1;34m\u001b[0m\n\u001b[0;32m      4\u001b[0m \u001b[1;33m\u001b[0m\u001b[0m\n\u001b[0;32m      5\u001b[0m \u001b[1;31m# model = torch.load('./20.pt')['model_state_dict']\u001b[0m\u001b[1;33m\u001b[0m\u001b[1;33m\u001b[0m\u001b[0m\n\u001b[1;32m----> 6\u001b[1;33m \u001b[0mmodel\u001b[0m \u001b[1;33m=\u001b[0m \u001b[0mtorch\u001b[0m\u001b[1;33m.\u001b[0m\u001b[0mload_state_dict\u001b[0m\u001b[1;33m(\u001b[0m\u001b[0mtorch\u001b[0m\u001b[1;33m.\u001b[0m\u001b[0mload\u001b[0m\u001b[1;33m(\u001b[0m\u001b[1;34m'./20.pt'\u001b[0m\u001b[1;33m)\u001b[0m\u001b[1;33m)\u001b[0m\u001b[1;33m\u001b[0m\u001b[1;33m\u001b[0m\u001b[0m\n\u001b[0m\u001b[0;32m      7\u001b[0m \u001b[1;31m# model = torch.load('./20.pt')\u001b[0m\u001b[1;33m\u001b[0m\u001b[1;33m\u001b[0m\u001b[0m\n\u001b[0;32m      8\u001b[0m \u001b[1;31m# model.load_state_dict(torch.load('./20.pt'))\u001b[0m\u001b[1;33m\u001b[0m\u001b[1;33m\u001b[0m\u001b[0m\n",
      "\u001b[1;31mAttributeError\u001b[0m: module 'torch' has no attribute 'load_state_dict'"
     ]
    }
   ],
   "source": [
    "import torch\n",
    "import torchsummaryX\n",
    "from torchvision.models.resnet import resnet18\n",
    "\n",
    "\n",
    "# model = resnet18()\n",
    "# data = torch.zeros([1, 3, 640, 480], dtype=torch.float32)\n",
    "# torchsummaryX.summary(model, data)\n",
    "print(model)"
   ]
  },
  {
   "cell_type": "code",
   "execution_count": 3,
   "metadata": {},
   "outputs": [
    {
     "name": "stdout",
     "output_type": "stream",
     "text": [
      "------------------------------------------------------------------------------\n",
      "           Layer (type)          Output Shape         Param #     Tr. Param #\n",
      "==============================================================================\n",
      "               Conv2d-1     [1, 53, 320, 240]           7,791           7,791\n",
      "          BatchNorm2d-2     [1, 53, 320, 240]             106             106\n",
      "                 ReLU-3     [1, 53, 320, 240]               0               0\n",
      "            MaxPool2d-4     [1, 53, 160, 120]               0               0\n",
      "           BasicBlock-5     [1, 53, 160, 120]          55,554          55,554\n",
      "           BasicBlock-6     [1, 53, 160, 120]          55,554          55,554\n",
      "           BasicBlock-7       [1, 83, 80, 60]         131,009         131,009\n",
      "           BasicBlock-8       [1, 83, 80, 60]         154,254         154,254\n",
      "           BasicBlock-9      [1, 164, 40, 30]         470,393         470,393\n",
      "          BasicBlock-10      [1, 164, 40, 30]         605,898         605,898\n",
      "          BasicBlock-11      [1, 252, 20, 15]       1,387,150       1,387,150\n",
      "          BasicBlock-12      [1, 252, 20, 15]       1,629,646       1,629,646\n",
      "   AdaptiveAvgPool2d-13        [1, 252, 1, 1]               0               0\n",
      "              Linear-14             [1, 1000]         253,000         253,000\n",
      "==============================================================================\n",
      "Total params: 4,750,355\n",
      "Trainable params: 4,750,355\n",
      "Non-trainable params: 0\n",
      "------------------------------------------------------------------------------\n"
     ]
    }
   ],
   "source": [
    "import torch\n",
    "import torchsummaryX\n",
    "import pytorch_model_summary as pms\n",
    "\n",
    "model = torch.load('./resnet18_80epoch_pruned.pt')\n",
    "# data = torch.zeros([1, 3, 640, 480], dtype=torch.float32)\n",
    "# torchsummaryX.summary(model, data)\n",
    "\n",
    "print(pms.summary(model, torch.zeros(1, 3, 640, 480)))"
   ]
  }
 ],
 "metadata": {
  "kernelspec": {
   "display_name": "Python 3.9.7 ('yolov5')",
   "language": "python",
   "name": "python3"
  },
  "language_info": {
   "codemirror_mode": {
    "name": "ipython",
    "version": 3
   },
   "file_extension": ".py",
   "mimetype": "text/x-python",
   "name": "python",
   "nbconvert_exporter": "python",
   "pygments_lexer": "ipython3",
   "version": "3.9.7"
  },
  "orig_nbformat": 4,
  "vscode": {
   "interpreter": {
    "hash": "bcbafe70f883e14d7611556a42c89c5818daa996ce73e89781e42f3f6c5db68d"
   }
  }
 },
 "nbformat": 4,
 "nbformat_minor": 2
}
