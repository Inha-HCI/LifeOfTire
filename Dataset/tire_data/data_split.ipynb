{
 "cells": [
  {
   "cell_type": "code",
   "execution_count": 41,
   "metadata": {},
   "outputs": [
    {
     "name": "stderr",
     "output_type": "stream",
     "text": [
      "100%|██████████| 6/6 [00:00<00:00, 1000.07it/s]\n",
      "100%|██████████| 4/4 [00:00<00:00, 3977.53it/s]\n",
      "100%|██████████| 6/6 [00:00<00:00, 3000.93it/s]\n",
      "100%|██████████| 4/4 [00:00<00:00, 1998.24it/s]\n",
      "100%|██████████| 6/6 [00:00<00:00, 3000.58it/s]\n",
      "100%|██████████| 5/5 [00:00<00:00, 1667.05it/s]\n",
      "100%|██████████| 4/4 [00:00<00:00, 1997.76it/s]\n",
      "100%|██████████| 6/6 [00:00<00:00, 3000.22it/s]\n",
      "100%|██████████| 5/5 [00:00<00:00, 2499.88it/s]\n",
      "100%|██████████| 5/5 [00:00<00:00, 2507.96it/s]\n",
      "100%|██████████| 5/5 [00:00<00:00, 2501.97it/s]\n",
      "100%|██████████| 5/5 [00:00<00:00, 2498.10it/s]\n",
      "100%|██████████| 4/4 [00:00<00:00, 3990.77it/s]\n",
      "100%|██████████| 1/1 [00:00<?, ?it/s]\n",
      "100%|██████████| 5/5 [00:00<00:00, 1664.67it/s]\n",
      "100%|██████████| 8/8 [00:00<00:00, 1994.79it/s]\n",
      "100%|██████████| 1/1 [00:00<?, ?it/s]\n",
      "100%|██████████| 1/1 [00:00<00:00, 997.46it/s]\n",
      "100%|██████████| 1/1 [00:00<00:00, 999.12it/s]\n",
      "100%|██████████| 1/1 [00:00<?, ?it/s]\n",
      "100%|██████████| 1/1 [00:00<00:00, 1000.55it/s]\n",
      "100%|██████████| 1/1 [00:00<00:00, 988.06it/s]\n",
      "100%|██████████| 1/1 [00:00<00:00, 999.12it/s]\n",
      "100%|██████████| 1/1 [00:00<00:00, 984.81it/s]\n"
     ]
    }
   ],
   "source": [
    "from os import listdir\n",
    "import os\n",
    "import glob\n",
    "from sklearn.model_selection import train_test_split\n",
    "import shutil\n",
    "from tqdm import tqdm\n",
    "\n",
    "# Make test directory\n",
    "# for dir in listdir(ori_path):\n",
    "#     os.makedirs(os.path.join(ori_path, 'test', dir), exist_ok=True)\n",
    "\n",
    "# Move some train images to test\n",
    "\n",
    "path = os.path.join('tire_data', 'train')\n",
    "for dir in listdir(path):\n",
    "    files = glob.glob(os.path.join(path, dir, '*.jpg'))\n",
    "\n",
    "    # split\n",
    "    _, test = train_test_split(files, test_size=0.05, random_state=42)\n",
    "\n",
    "    for name in tqdm(test):\n",
    "        shutil.move(name, name.replace(\"train\", \"test\"))\n",
    "\n",
    "    \n",
    "#     save_path = os.path.join('tire_data', 'test')\n",
    "# path = './tire_data'\n",
    "# for file in "
   ]
  },
  {
   "cell_type": "code",
   "execution_count": null,
   "metadata": {},
   "outputs": [],
   "source": []
  }
 ],
 "metadata": {
  "kernelspec": {
   "display_name": "Python 3.9.7 ('yolov5')",
   "language": "python",
   "name": "python3"
  },
  "language_info": {
   "codemirror_mode": {
    "name": "ipython",
    "version": 3
   },
   "file_extension": ".py",
   "mimetype": "text/x-python",
   "name": "python",
   "nbconvert_exporter": "python",
   "pygments_lexer": "ipython3",
   "version": "3.9.7"
  },
  "orig_nbformat": 4,
  "vscode": {
   "interpreter": {
    "hash": "bcbafe70f883e14d7611556a42c89c5818daa996ce73e89781e42f3f6c5db68d"
   }
  }
 },
 "nbformat": 4,
 "nbformat_minor": 2
}
