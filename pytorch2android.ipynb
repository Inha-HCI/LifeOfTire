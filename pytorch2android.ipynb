{
 "cells": [
  {
   "cell_type": "code",
   "execution_count": 5,
   "metadata": {},
   "outputs": [],
   "source": [
    "import torch\n",
    "import torchvision\n",
    "from torch.utils.mobile_optimizer import optimize_for_mobile\n",
    "\n",
    "model = torchvision.models.mobilenet_v2(pretrained=True)\n",
    "model.eval()\n",
    "example = torch.rand(1, 3, 224, 224)\n",
    "traced_script_module = torch.jit.trace(model, example)\n",
    "traced_script_module_optimized = optimize_for_mobile(traced_script_module)      \n",
    "traced_script_module_optimized._save_for_lite_interpreter(\"app/src/main/assets/model.ptl\")  # 해당 코드 실행하면 app/src/main/assets dir에 model.ptl 생성됨"
   ]
  },
  {
   "cell_type": "markdown",
   "metadata": {},
   "source": [
    "- 생성된 가중치파일이 Android app에서 asset으로 작동함\n",
    "![](images/2022-02-18-14-09-23.png)\n",
    "\n",
    "- build.gradle 의존성 셋팅\n",
    "\n",
    "\n",
    "```xml\n",
    "repositories {\n",
    "    jcenter()\n",
    "}\n",
    "\n",
    "dependencies {\n",
    "    implementation 'org.pytorch:pytorch_android_lite:1.9.0'     // Pytorch Android API\n",
    "    implementation 'org.pytorch:pytorch_android_torchvision:1.9.0'      // android.media.Image -> android.graphics.Bitmap으로 바꿔주는 기능\n",
    "}\n",
    "```\n",
    "\n",
    "- png, jpg 이미지 안드로이드 Bitmap 객체로 변환\n",
    "  \n",
    "```java\n",
    "Bitmap bitmap = BitmapFactory.decodeStream(getAssets().open(\"image.jpg\"));\n",
    "```\n",
    "\n",
    "- **가중치 파일** 로드\n",
    "\n",
    "```java\n",
    "Module module = Module.load(assetFilePath(this, \"model.ptl\"));\n",
    "```\n",
    "\n",
    "- Bitmap 객체 32bit float Tensor로 변환 및 전처리\n",
    "  - 주의사항으로 로드된 가중치파일이 학습할 때 아래 코드와 같은 `전처리`가 이루어진것으로 해야 성능 하락을 억제할 수 있음\n",
    "```java\n",
    "Tensor inputTensor = TensorImageUtils.bitmapToFloat32Tensor(bitmap,\n",
    "    TensorImageUtils.TORCHVISION_NORM_MEAN_RGB, TensorImageUtils.TORCHVISION_NORM_STD_RGB);\n",
    "    // mean: ([0.485, 0.456, 0.406]) std: ([0.229, 0.224, 0.225])임. 얘네가 Imagenet 전체 데이터에 계산한 평균, 표준편차 값임\n",
    "    // 이미지 사이즈는 자동으로 정해주나..?\n",
    "```\n",
    "\n",
    "- Inference\n",
    "\n",
    "```java\n",
    "Tensor outputTensor = module.forward(IValue.from(inputTensor)).toTensor();\n",
    "float[] scores = outputTensor.getDataAsFloatArray();        // pretrained된 imagenet으로 진행했다면 (1, 1000)으로 output 나옴\n",
    "\n",
    "float maxScore = -Float.MAX_VALUE;      \n",
    "int maxScoreIdx = -1;\n",
    "for (int i = 0; i < scores.length; i++) {       // Inference 값 중 가장 큰 값의 index 구함\n",
    "  if (scores[i] > maxScore) {\n",
    "    maxScore = scores[i];\n",
    "    maxScoreIdx = i;\n",
    "  }\n",
    "}\n",
    "String className = ImageNetClasses.IMAGENET_CLASSES[maxScoreIdx];\n",
    "```\n",
    "\n",
    "- 의문사항\n",
    "  - 왜 img, ptl을 assets 폴더에 두는거지?\n",
    "  - 평균이 0.5가 아니라 저렇게 나오는 이유가 있나..? 표준 정규화 거치면 무조건 평균 0, 표준편차 1로 되는거 아님?"
   ]
  },
  {
   "cell_type": "markdown",
   "metadata": {},
   "source": []
  }
 ],
 "metadata": {
  "interpreter": {
   "hash": "ccb5bf41e5423db1236314aeaafd18f2c99d27854ace3e52e31bb7254d23eeb8"
  },
  "kernelspec": {
   "display_name": "Python 3.9.7 ('torch2android')",
   "language": "python",
   "name": "python3"
  },
  "language_info": {
   "codemirror_mode": {
    "name": "ipython",
    "version": 3
   },
   "file_extension": ".py",
   "mimetype": "text/x-python",
   "name": "python",
   "nbconvert_exporter": "python",
   "pygments_lexer": "ipython3",
   "version": "3.9.7"
  },
  "orig_nbformat": 4
 },
 "nbformat": 4,
 "nbformat_minor": 2
}
