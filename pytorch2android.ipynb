{
 "cells": [
  {
   "cell_type": "code",
   "execution_count": 1,
   "metadata": {},
   "outputs": [],
   "source": [
    "import torch\n",
    "import torchvision\n",
    "from torch.utils.mobile_optimizer import optimize_for_mobile\n",
    "\n",
    "model = torchvision.models.mobilenet_v2(pretrained=True)        # 사전학습된 모델 가져옴\n",
    "model.eval()\n",
    "example = torch.rand(1, 3, 224, 224)                            # 모델 사이즈에 맞는 Tensor 생성\n",
    "traced_script_module = torch.jit.trace(model, example)          \n",
    "traced_script_module_optimized = optimize_for_mobile(traced_script_module)      \n",
    "traced_script_module_optimized._save_for_lite_interpreter(\"app/src/main/assets/model.ptl\")  # 해당 코드 실행하면 app/src/main/assets dir에 model.ptl 생성됨"
   ]
  },
  {
   "cell_type": "markdown",
   "metadata": {},
   "source": [
    "- 생성된 가중치파일이 Android app에서 asset으로 작동함  \n",
    "\n",
    "![](/images/2022-02-18-14-09-23.png)\n",
    "\n",
    "- build.gradle 의존성 셋팅\n",
    "\n",
    "  ```bash\n",
    "  repositories {\n",
    "      jcenter()\n",
    "  }\n",
    "\n",
    "  dependencies {\n",
    "      implementation 'org.pytorch:pytorch_android_lite:1.9.0'     // Pytorch Android API\n",
    "      implementation 'org.pytorch:pytorch_android_torchvision:1.9.0'      // android.media.Image -> android.graphics.Bitmap으로 바꿔주는 기능\n",
    "  }\n",
    "  ```\n",
    "\n",
    "- png, jpg 이미지 안드로이드 Bitmap 객체로 변환\n",
    "  \n",
    "  ```java\n",
    "  Bitmap bitmap = BitmapFactory.decodeStream(getAssets().open(\"image.jpg\"));\n",
    "  ```\n",
    "\n",
    "- **가중치 파일** 로드\n",
    "\n",
    "  ```java\n",
    "  Module module = Module.load(assetFilePath(this, \"model.ptl\"));\n",
    "  ```\n",
    "\n",
    "- Bitmap 객체 32bit float Tensor로 변환 및 전처리\n",
    "  - 주의사항으로 로드된 가중치파일이 학습할 때 아래 코드와 같은 `전처리`가 이루어진것으로 해야 성능 하락을 억제할 수 있음\n",
    "    ```java\n",
    "    Tensor inputTensor = TensorImageUtils.bitmapToFloat32Tensor(bitmap,\n",
    "        TensorImageUtils.TORCHVISION_NORM_MEAN_RGB, TensorImageUtils.TORCHVISION_NORM_STD_RGB);\n",
    "        // mean: ([0.485, 0.456, 0.406]) std: ([0.229, 0.224, 0.225])임. 얘네가 Imagenet 전체 데이터에 계산한 평균, 표준편차 값임\n",
    "        // 이미지 사이즈는 자동으로 정해주나..?\n",
    "    ```\n",
    "\n",
    "- Inference\n",
    "\n",
    "  ```java\n",
    "  Tensor outputTensor = module.forward(IValue.from(inputTensor)).toTensor();\n",
    "  float[] scores = outputTensor.getDataAsFloatArray();        // pretrained된 imagenet으로 진행했다면 (1, 1000)으로 output 나옴\n",
    "\n",
    "  float maxScore = -Float.MAX_VALUE;      \n",
    "  int maxScoreIdx = -1;\n",
    "  for (int i = 0; i < scores.length; i++) {       // Inference 값 중 가장 큰 값의 index 구함\n",
    "    if (scores[i] > maxScore) {\n",
    "      maxScore = scores[i];\n",
    "      maxScoreIdx = i;\n",
    "    }\n",
    "  }\n",
    "  String className = ImageNetClasses.IMAGENET_CLASSES[maxScoreIdx];\n",
    "  ```\n",
    "\n",
    "- 의문사항\n",
    "  - 왜 img, ptl을 assets 폴더에 두는거지?\n",
    "  - 평균이 0.5가 아니라 저렇게 나오는 이유가 있나..? 표준 정규화 거치면 무조건 평균 0, 표준편차 1로 되는거 아님?"
   ]
  },
  {
   "cell_type": "code",
   "execution_count": 2,
   "metadata": {},
   "outputs": [
    {
     "name": "stderr",
     "output_type": "stream",
     "text": [
      "Using cache found in C:\\Users\\hojun_window/.cache\\torch\\hub\\pytorch_vision_v0.10.0\n"
     ]
    }
   ],
   "source": [
    "import torch\n",
    "import torchvision\n",
    "from torch.utils.mobile_optimizer import optimize_for_mobile\n",
    "from ast import Num\n",
    "import torch\n",
    "import numpy as np\n",
    "from torch.utils.data import Dataset,DataLoader\n",
    "import torchvision.transforms as transforms\n",
    "import torch.nn as nn\n",
    "import torch.optim as optim\n",
    "import torch.nn.functional as F\n",
    "from tqdm import tqdm\n",
    "import os\n",
    "import math\n",
    "from glob import glob\n",
    "from PIL import Image\n",
    "import pandas as pd\n",
    "\n",
    "model = torch.hub.load('pytorch/vision:v0.10.0', 'mobilenet_v2', pretrained=True)\n",
    "model.classifier[1] = nn.Linear(in_features=1280,out_features=7,bias=True)\n",
    "model.eval()\n",
    "example = torch.rand(1, 3, 252, 336)\n",
    "traced_script_module = torch.jit.trace(model, example)\n",
    "traced_script_module_optimized = optimize_for_mobile(traced_script_module)\n",
    "traced_script_module_optimized._save_for_lite_interpreter(\"app/src/main/assets/model_custom.ptl\")"
   ]
  },
  {
   "cell_type": "code",
   "execution_count": 1,
   "metadata": {},
   "outputs": [
    {
     "name": "stderr",
     "output_type": "stream",
     "text": [
      "Downloading: \"https://github.com/pytorch/vision/archive/v0.7.0.zip\" to C:\\Users\\hojun_window/.cache\\torch\\hub\\v0.7.0.zip\n",
      "Downloading: \"https://download.pytorch.org/models/resnet50-19c8e357.pth\" to C:\\Users\\hojun_window/.cache\\torch\\hub\\checkpoints\\resnet50-19c8e357.pth\n",
      "100%|██████████| 97.8M/97.8M [00:08<00:00, 11.7MB/s]\n",
      "Downloading: \"https://download.pytorch.org/models/deeplabv3_resnet50_coco-cd0a2569.pth\" to C:\\Users\\hojun_window/.cache\\torch\\hub\\checkpoints\\deeplabv3_resnet50_coco-cd0a2569.pth\n",
      "100%|██████████| 161M/161M [00:14<00:00, 11.6MB/s] \n",
      "c:\\Users\\hojun_window\\anaconda3\\envs\\yolov5\\lib\\site-packages\\torch\\jit\\_recursive.py:234: UserWarning: 'aux_classifier' was found in ScriptModule constants,  but it is a non-constant submodule. Consider removing it.\n",
      "  warnings.warn(\"'{}' was found in ScriptModule constants, \"\n"
     ]
    }
   ],
   "source": [
    "import torch\n",
    "\n",
    "# use deeplabv3_resnet50 instead of resnet101 to reduce the model size\n",
    "model = torch.hub.load('pytorch/vision:v0.7.0', 'deeplabv3_resnet50', pretrained=True)\n",
    "model.eval()\n",
    "\n",
    "scriptedm = torch.jit.script(model)\n",
    "torch.jit.save(scriptedm, \"deeplabv3_scripted.pt\")"
   ]
  },
  {
   "cell_type": "code",
   "execution_count": null,
   "metadata": {},
   "outputs": [],
   "source": []
  }
 ],
 "metadata": {
  "interpreter": {
   "hash": "bcbafe70f883e14d7611556a42c89c5818daa996ce73e89781e42f3f6c5db68d"
  },
  "kernelspec": {
   "display_name": "Python 3.9.7 ('yolov5')",
   "language": "python",
   "name": "python3"
  },
  "language_info": {
   "codemirror_mode": {
    "name": "ipython",
    "version": 3
   },
   "file_extension": ".py",
   "mimetype": "text/x-python",
   "name": "python",
   "nbconvert_exporter": "python",
   "pygments_lexer": "ipython3",
   "version": "3.9.7"
  },
  "orig_nbformat": 4
 },
 "nbformat": 4,
 "nbformat_minor": 2
}
